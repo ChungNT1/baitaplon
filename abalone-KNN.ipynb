{
 "cells": [
  {
   "cell_type": "code",
   "execution_count": 1,
   "metadata": {
    "_cell_guid": "b1076dfc-b9ad-4769-8c92-a6c4dae69d19",
    "_uuid": "8f2839f25d086af736a60e9eeb907d3b93b6e0e5",
    "execution": {
     "iopub.execute_input": "2022-04-19T12:24:00.556065Z",
     "iopub.status.busy": "2022-04-19T12:24:00.555490Z",
     "iopub.status.idle": "2022-04-19T12:24:02.560387Z",
     "shell.execute_reply": "2022-04-19T12:24:02.559123Z",
     "shell.execute_reply.started": "2022-04-19T12:24:00.555994Z"
    }
   },
   "outputs": [
    {
     "name": "stdout",
     "output_type": "stream",
     "text": [
      "['abalone.csv']\n"
     ]
    }
   ],
   "source": [
    "# This Python 3 environment comes with many helpful analytics libraries installed\n",
    "# It is defined by the kaggle/python docker image: https://github.com/kaggle/docker-python\n",
    "# For example, here's several helpful packages to load in \n",
    "\n",
    "import numpy as np # linear algebra\n",
    "import pandas as pd # data processing, CSV file I/O (e.g. pd.read_csv)\n",
    "import matplotlib.pyplot as plt\n",
    "import seaborn as sns\n",
    "from scipy.stats import skew\n",
    "%matplotlib inline\n",
    "\n",
    "from sklearn.preprocessing import  StandardScaler\n",
    "from sklearn.model_selection import  train_test_split, cross_val_score\n",
    "from sklearn.feature_selection import SelectKBest\n",
    "from sklearn.metrics import r2_score, mean_squared_error\n",
    "from sklearn.neighbors import KNeighborsRegressor\n",
    "from sklearn.ensemble import  GradientBoostingRegressor\n",
    "from sklearn.linear_model import  Ridge\n",
    "import warnings\n",
    "warnings.filterwarnings(\"ignore\", category=DeprecationWarning) \n",
    "# Input data files are available in the \"../input/\" directory.\n",
    "# For example, running this (by clicking run or pressing Shift+Enter) will list the files in the input directory\n",
    "import os\n",
    "print(os.listdir(\"../input\"))"
   ]
  },
  {
   "cell_type": "code",
   "execution_count": 2,
   "metadata": {
    "_cell_guid": "79c7e3d0-c299-4dcb-8224-4455121ee9b0",
    "_uuid": "d629ff2d2480ee46fbb7e2d37f6b5fab8052498a",
    "execution": {
     "iopub.execute_input": "2022-04-19T12:24:02.562543Z",
     "iopub.status.busy": "2022-04-19T12:24:02.562208Z",
     "iopub.status.idle": "2022-04-19T12:24:02.590146Z",
     "shell.execute_reply": "2022-04-19T12:24:02.589051Z",
     "shell.execute_reply.started": "2022-04-19T12:24:02.562485Z"
    }
   },
   "outputs": [],
   "source": [
    "\n",
    "data = pd.read_csv('../input/abalone.csv')"
   ]
  },
  {
   "cell_type": "code",
   "execution_count": 3,
   "metadata": {
    "_uuid": "aae219dda94383aa845d7a6e9d80c35b9d94a74f",
    "execution": {
     "iopub.execute_input": "2022-04-19T12:24:02.592148Z",
     "iopub.status.busy": "2022-04-19T12:24:02.591869Z",
     "iopub.status.idle": "2022-04-19T12:24:02.734226Z",
     "shell.execute_reply": "2022-04-19T12:24:02.733131Z",
     "shell.execute_reply.started": "2022-04-19T12:24:02.592102Z"
    }
   },
   "outputs": [],
   "source": [
    " data['age'] = data['Rings']+1.5\n",
    " data.drop('Rings', axis = 1, inplace = True)"
   ]
  },
  {
   "cell_type": "code",
   "execution_count": 4,
   "metadata": {
    "_uuid": "2673188ba421c44e2209d6e3769d3750255eed82",
    "execution": {
     "iopub.execute_input": "2022-04-19T12:24:02.736019Z",
     "iopub.status.busy": "2022-04-19T12:24:02.735615Z",
     "iopub.status.idle": "2022-04-19T12:24:02.741786Z",
     "shell.execute_reply": "2022-04-19T12:24:02.740720Z",
     "shell.execute_reply.started": "2022-04-19T12:24:02.735891Z"
    }
   },
   "outputs": [
    {
     "name": "stdout",
     "output_type": "stream",
     "text": [
      "This dataset has 4177 observations with 9 features.\n"
     ]
    }
   ],
   "source": [
    "print('This dataset has {} observations with {} features.'.format(data.shape[0], data.shape[1]))"
   ]
  },
  {
   "cell_type": "code",
   "execution_count": 5,
   "metadata": {
    "execution": {
     "iopub.execute_input": "2022-04-19T12:24:02.747247Z",
     "iopub.status.busy": "2022-04-19T12:24:02.746760Z",
     "iopub.status.idle": "2022-04-19T12:24:02.795714Z",
     "shell.execute_reply": "2022-04-19T12:24:02.794626Z",
     "shell.execute_reply.started": "2022-04-19T12:24:02.747180Z"
    }
   },
   "outputs": [
    {
     "data": {
      "text/html": [
       "<div>\n",
       "<style scoped>\n",
       "    .dataframe tbody tr th:only-of-type {\n",
       "        vertical-align: middle;\n",
       "    }\n",
       "\n",
       "    .dataframe tbody tr th {\n",
       "        vertical-align: top;\n",
       "    }\n",
       "\n",
       "    .dataframe thead th {\n",
       "        text-align: right;\n",
       "    }\n",
       "</style>\n",
       "<table border=\"1\" class=\"dataframe\">\n",
       "  <thead>\n",
       "    <tr style=\"text-align: right;\">\n",
       "      <th></th>\n",
       "      <th>Sex</th>\n",
       "      <th>Length</th>\n",
       "      <th>Diameter</th>\n",
       "      <th>Height</th>\n",
       "      <th>Whole weight</th>\n",
       "      <th>Shucked weight</th>\n",
       "      <th>Viscera weight</th>\n",
       "      <th>Shell weight</th>\n",
       "      <th>age</th>\n",
       "    </tr>\n",
       "  </thead>\n",
       "  <tbody>\n",
       "    <tr>\n",
       "      <th>0</th>\n",
       "      <td>M</td>\n",
       "      <td>0.455</td>\n",
       "      <td>0.365</td>\n",
       "      <td>0.095</td>\n",
       "      <td>0.5140</td>\n",
       "      <td>0.2245</td>\n",
       "      <td>0.1010</td>\n",
       "      <td>0.1500</td>\n",
       "      <td>16.5</td>\n",
       "    </tr>\n",
       "    <tr>\n",
       "      <th>1</th>\n",
       "      <td>M</td>\n",
       "      <td>0.350</td>\n",
       "      <td>0.265</td>\n",
       "      <td>0.090</td>\n",
       "      <td>0.2255</td>\n",
       "      <td>0.0995</td>\n",
       "      <td>0.0485</td>\n",
       "      <td>0.0700</td>\n",
       "      <td>8.5</td>\n",
       "    </tr>\n",
       "    <tr>\n",
       "      <th>2</th>\n",
       "      <td>F</td>\n",
       "      <td>0.530</td>\n",
       "      <td>0.420</td>\n",
       "      <td>0.135</td>\n",
       "      <td>0.6770</td>\n",
       "      <td>0.2565</td>\n",
       "      <td>0.1415</td>\n",
       "      <td>0.2100</td>\n",
       "      <td>10.5</td>\n",
       "    </tr>\n",
       "    <tr>\n",
       "      <th>3</th>\n",
       "      <td>M</td>\n",
       "      <td>0.440</td>\n",
       "      <td>0.365</td>\n",
       "      <td>0.125</td>\n",
       "      <td>0.5160</td>\n",
       "      <td>0.2155</td>\n",
       "      <td>0.1140</td>\n",
       "      <td>0.1550</td>\n",
       "      <td>11.5</td>\n",
       "    </tr>\n",
       "    <tr>\n",
       "      <th>4</th>\n",
       "      <td>I</td>\n",
       "      <td>0.330</td>\n",
       "      <td>0.255</td>\n",
       "      <td>0.080</td>\n",
       "      <td>0.2050</td>\n",
       "      <td>0.0895</td>\n",
       "      <td>0.0395</td>\n",
       "      <td>0.0550</td>\n",
       "      <td>8.5</td>\n",
       "    </tr>\n",
       "    <tr>\n",
       "      <th>5</th>\n",
       "      <td>I</td>\n",
       "      <td>0.425</td>\n",
       "      <td>0.300</td>\n",
       "      <td>0.095</td>\n",
       "      <td>0.3515</td>\n",
       "      <td>0.1410</td>\n",
       "      <td>0.0775</td>\n",
       "      <td>0.1200</td>\n",
       "      <td>9.5</td>\n",
       "    </tr>\n",
       "    <tr>\n",
       "      <th>6</th>\n",
       "      <td>F</td>\n",
       "      <td>0.530</td>\n",
       "      <td>0.415</td>\n",
       "      <td>0.150</td>\n",
       "      <td>0.7775</td>\n",
       "      <td>0.2370</td>\n",
       "      <td>0.1415</td>\n",
       "      <td>0.3300</td>\n",
       "      <td>21.5</td>\n",
       "    </tr>\n",
       "    <tr>\n",
       "      <th>7</th>\n",
       "      <td>F</td>\n",
       "      <td>0.545</td>\n",
       "      <td>0.425</td>\n",
       "      <td>0.125</td>\n",
       "      <td>0.7680</td>\n",
       "      <td>0.2940</td>\n",
       "      <td>0.1495</td>\n",
       "      <td>0.2600</td>\n",
       "      <td>17.5</td>\n",
       "    </tr>\n",
       "    <tr>\n",
       "      <th>8</th>\n",
       "      <td>M</td>\n",
       "      <td>0.475</td>\n",
       "      <td>0.370</td>\n",
       "      <td>0.125</td>\n",
       "      <td>0.5095</td>\n",
       "      <td>0.2165</td>\n",
       "      <td>0.1125</td>\n",
       "      <td>0.1650</td>\n",
       "      <td>10.5</td>\n",
       "    </tr>\n",
       "    <tr>\n",
       "      <th>9</th>\n",
       "      <td>F</td>\n",
       "      <td>0.550</td>\n",
       "      <td>0.440</td>\n",
       "      <td>0.150</td>\n",
       "      <td>0.8945</td>\n",
       "      <td>0.3145</td>\n",
       "      <td>0.1510</td>\n",
       "      <td>0.3200</td>\n",
       "      <td>20.5</td>\n",
       "    </tr>\n",
       "    <tr>\n",
       "      <th>10</th>\n",
       "      <td>F</td>\n",
       "      <td>0.525</td>\n",
       "      <td>0.380</td>\n",
       "      <td>0.140</td>\n",
       "      <td>0.6065</td>\n",
       "      <td>0.1940</td>\n",
       "      <td>0.1475</td>\n",
       "      <td>0.2100</td>\n",
       "      <td>15.5</td>\n",
       "    </tr>\n",
       "    <tr>\n",
       "      <th>11</th>\n",
       "      <td>M</td>\n",
       "      <td>0.430</td>\n",
       "      <td>0.350</td>\n",
       "      <td>0.110</td>\n",
       "      <td>0.4060</td>\n",
       "      <td>0.1675</td>\n",
       "      <td>0.0810</td>\n",
       "      <td>0.1350</td>\n",
       "      <td>11.5</td>\n",
       "    </tr>\n",
       "    <tr>\n",
       "      <th>12</th>\n",
       "      <td>M</td>\n",
       "      <td>0.490</td>\n",
       "      <td>0.380</td>\n",
       "      <td>0.135</td>\n",
       "      <td>0.5415</td>\n",
       "      <td>0.2175</td>\n",
       "      <td>0.0950</td>\n",
       "      <td>0.1900</td>\n",
       "      <td>12.5</td>\n",
       "    </tr>\n",
       "    <tr>\n",
       "      <th>13</th>\n",
       "      <td>F</td>\n",
       "      <td>0.535</td>\n",
       "      <td>0.405</td>\n",
       "      <td>0.145</td>\n",
       "      <td>0.6845</td>\n",
       "      <td>0.2725</td>\n",
       "      <td>0.1710</td>\n",
       "      <td>0.2050</td>\n",
       "      <td>11.5</td>\n",
       "    </tr>\n",
       "    <tr>\n",
       "      <th>14</th>\n",
       "      <td>F</td>\n",
       "      <td>0.470</td>\n",
       "      <td>0.355</td>\n",
       "      <td>0.100</td>\n",
       "      <td>0.4755</td>\n",
       "      <td>0.1675</td>\n",
       "      <td>0.0805</td>\n",
       "      <td>0.1850</td>\n",
       "      <td>11.5</td>\n",
       "    </tr>\n",
       "    <tr>\n",
       "      <th>15</th>\n",
       "      <td>M</td>\n",
       "      <td>0.500</td>\n",
       "      <td>0.400</td>\n",
       "      <td>0.130</td>\n",
       "      <td>0.6645</td>\n",
       "      <td>0.2580</td>\n",
       "      <td>0.1330</td>\n",
       "      <td>0.2400</td>\n",
       "      <td>13.5</td>\n",
       "    </tr>\n",
       "    <tr>\n",
       "      <th>16</th>\n",
       "      <td>I</td>\n",
       "      <td>0.355</td>\n",
       "      <td>0.280</td>\n",
       "      <td>0.085</td>\n",
       "      <td>0.2905</td>\n",
       "      <td>0.0950</td>\n",
       "      <td>0.0395</td>\n",
       "      <td>0.1150</td>\n",
       "      <td>8.5</td>\n",
       "    </tr>\n",
       "    <tr>\n",
       "      <th>17</th>\n",
       "      <td>F</td>\n",
       "      <td>0.440</td>\n",
       "      <td>0.340</td>\n",
       "      <td>0.100</td>\n",
       "      <td>0.4510</td>\n",
       "      <td>0.1880</td>\n",
       "      <td>0.0870</td>\n",
       "      <td>0.1300</td>\n",
       "      <td>11.5</td>\n",
       "    </tr>\n",
       "    <tr>\n",
       "      <th>18</th>\n",
       "      <td>M</td>\n",
       "      <td>0.365</td>\n",
       "      <td>0.295</td>\n",
       "      <td>0.080</td>\n",
       "      <td>0.2555</td>\n",
       "      <td>0.0970</td>\n",
       "      <td>0.0430</td>\n",
       "      <td>0.1000</td>\n",
       "      <td>8.5</td>\n",
       "    </tr>\n",
       "    <tr>\n",
       "      <th>19</th>\n",
       "      <td>M</td>\n",
       "      <td>0.450</td>\n",
       "      <td>0.320</td>\n",
       "      <td>0.100</td>\n",
       "      <td>0.3810</td>\n",
       "      <td>0.1705</td>\n",
       "      <td>0.0750</td>\n",
       "      <td>0.1150</td>\n",
       "      <td>10.5</td>\n",
       "    </tr>\n",
       "    <tr>\n",
       "      <th>20</th>\n",
       "      <td>M</td>\n",
       "      <td>0.355</td>\n",
       "      <td>0.280</td>\n",
       "      <td>0.095</td>\n",
       "      <td>0.2455</td>\n",
       "      <td>0.0955</td>\n",
       "      <td>0.0620</td>\n",
       "      <td>0.0750</td>\n",
       "      <td>12.5</td>\n",
       "    </tr>\n",
       "    <tr>\n",
       "      <th>21</th>\n",
       "      <td>I</td>\n",
       "      <td>0.380</td>\n",
       "      <td>0.275</td>\n",
       "      <td>0.100</td>\n",
       "      <td>0.2255</td>\n",
       "      <td>0.0800</td>\n",
       "      <td>0.0490</td>\n",
       "      <td>0.0850</td>\n",
       "      <td>11.5</td>\n",
       "    </tr>\n",
       "    <tr>\n",
       "      <th>22</th>\n",
       "      <td>F</td>\n",
       "      <td>0.565</td>\n",
       "      <td>0.440</td>\n",
       "      <td>0.155</td>\n",
       "      <td>0.9395</td>\n",
       "      <td>0.4275</td>\n",
       "      <td>0.2140</td>\n",
       "      <td>0.2700</td>\n",
       "      <td>13.5</td>\n",
       "    </tr>\n",
       "    <tr>\n",
       "      <th>23</th>\n",
       "      <td>F</td>\n",
       "      <td>0.550</td>\n",
       "      <td>0.415</td>\n",
       "      <td>0.135</td>\n",
       "      <td>0.7635</td>\n",
       "      <td>0.3180</td>\n",
       "      <td>0.2100</td>\n",
       "      <td>0.2000</td>\n",
       "      <td>10.5</td>\n",
       "    </tr>\n",
       "    <tr>\n",
       "      <th>24</th>\n",
       "      <td>F</td>\n",
       "      <td>0.615</td>\n",
       "      <td>0.480</td>\n",
       "      <td>0.165</td>\n",
       "      <td>1.1615</td>\n",
       "      <td>0.5130</td>\n",
       "      <td>0.3010</td>\n",
       "      <td>0.3050</td>\n",
       "      <td>11.5</td>\n",
       "    </tr>\n",
       "    <tr>\n",
       "      <th>25</th>\n",
       "      <td>F</td>\n",
       "      <td>0.560</td>\n",
       "      <td>0.440</td>\n",
       "      <td>0.140</td>\n",
       "      <td>0.9285</td>\n",
       "      <td>0.3825</td>\n",
       "      <td>0.1880</td>\n",
       "      <td>0.3000</td>\n",
       "      <td>12.5</td>\n",
       "    </tr>\n",
       "    <tr>\n",
       "      <th>26</th>\n",
       "      <td>F</td>\n",
       "      <td>0.580</td>\n",
       "      <td>0.450</td>\n",
       "      <td>0.185</td>\n",
       "      <td>0.9955</td>\n",
       "      <td>0.3945</td>\n",
       "      <td>0.2720</td>\n",
       "      <td>0.2850</td>\n",
       "      <td>12.5</td>\n",
       "    </tr>\n",
       "    <tr>\n",
       "      <th>27</th>\n",
       "      <td>M</td>\n",
       "      <td>0.590</td>\n",
       "      <td>0.445</td>\n",
       "      <td>0.140</td>\n",
       "      <td>0.9310</td>\n",
       "      <td>0.3560</td>\n",
       "      <td>0.2340</td>\n",
       "      <td>0.2800</td>\n",
       "      <td>13.5</td>\n",
       "    </tr>\n",
       "    <tr>\n",
       "      <th>28</th>\n",
       "      <td>M</td>\n",
       "      <td>0.605</td>\n",
       "      <td>0.475</td>\n",
       "      <td>0.180</td>\n",
       "      <td>0.9365</td>\n",
       "      <td>0.3940</td>\n",
       "      <td>0.2190</td>\n",
       "      <td>0.2950</td>\n",
       "      <td>16.5</td>\n",
       "    </tr>\n",
       "    <tr>\n",
       "      <th>29</th>\n",
       "      <td>M</td>\n",
       "      <td>0.575</td>\n",
       "      <td>0.425</td>\n",
       "      <td>0.140</td>\n",
       "      <td>0.8635</td>\n",
       "      <td>0.3930</td>\n",
       "      <td>0.2270</td>\n",
       "      <td>0.2000</td>\n",
       "      <td>12.5</td>\n",
       "    </tr>\n",
       "    <tr>\n",
       "      <th>...</th>\n",
       "      <td>...</td>\n",
       "      <td>...</td>\n",
       "      <td>...</td>\n",
       "      <td>...</td>\n",
       "      <td>...</td>\n",
       "      <td>...</td>\n",
       "      <td>...</td>\n",
       "      <td>...</td>\n",
       "      <td>...</td>\n",
       "    </tr>\n",
       "    <tr>\n",
       "      <th>4147</th>\n",
       "      <td>M</td>\n",
       "      <td>0.695</td>\n",
       "      <td>0.550</td>\n",
       "      <td>0.195</td>\n",
       "      <td>1.6645</td>\n",
       "      <td>0.7270</td>\n",
       "      <td>0.3600</td>\n",
       "      <td>0.4450</td>\n",
       "      <td>12.5</td>\n",
       "    </tr>\n",
       "    <tr>\n",
       "      <th>4148</th>\n",
       "      <td>M</td>\n",
       "      <td>0.770</td>\n",
       "      <td>0.605</td>\n",
       "      <td>0.175</td>\n",
       "      <td>2.0505</td>\n",
       "      <td>0.8005</td>\n",
       "      <td>0.5260</td>\n",
       "      <td>0.3550</td>\n",
       "      <td>12.5</td>\n",
       "    </tr>\n",
       "    <tr>\n",
       "      <th>4149</th>\n",
       "      <td>I</td>\n",
       "      <td>0.280</td>\n",
       "      <td>0.215</td>\n",
       "      <td>0.070</td>\n",
       "      <td>0.1240</td>\n",
       "      <td>0.0630</td>\n",
       "      <td>0.0215</td>\n",
       "      <td>0.0300</td>\n",
       "      <td>7.5</td>\n",
       "    </tr>\n",
       "    <tr>\n",
       "      <th>4150</th>\n",
       "      <td>I</td>\n",
       "      <td>0.330</td>\n",
       "      <td>0.230</td>\n",
       "      <td>0.080</td>\n",
       "      <td>0.1400</td>\n",
       "      <td>0.0565</td>\n",
       "      <td>0.0365</td>\n",
       "      <td>0.0460</td>\n",
       "      <td>8.5</td>\n",
       "    </tr>\n",
       "    <tr>\n",
       "      <th>4151</th>\n",
       "      <td>I</td>\n",
       "      <td>0.350</td>\n",
       "      <td>0.250</td>\n",
       "      <td>0.075</td>\n",
       "      <td>0.1695</td>\n",
       "      <td>0.0835</td>\n",
       "      <td>0.0355</td>\n",
       "      <td>0.0410</td>\n",
       "      <td>7.5</td>\n",
       "    </tr>\n",
       "    <tr>\n",
       "      <th>4152</th>\n",
       "      <td>I</td>\n",
       "      <td>0.370</td>\n",
       "      <td>0.280</td>\n",
       "      <td>0.090</td>\n",
       "      <td>0.2180</td>\n",
       "      <td>0.0995</td>\n",
       "      <td>0.0545</td>\n",
       "      <td>0.0615</td>\n",
       "      <td>8.5</td>\n",
       "    </tr>\n",
       "    <tr>\n",
       "      <th>4153</th>\n",
       "      <td>I</td>\n",
       "      <td>0.430</td>\n",
       "      <td>0.315</td>\n",
       "      <td>0.115</td>\n",
       "      <td>0.3840</td>\n",
       "      <td>0.1885</td>\n",
       "      <td>0.0715</td>\n",
       "      <td>0.1100</td>\n",
       "      <td>9.5</td>\n",
       "    </tr>\n",
       "    <tr>\n",
       "      <th>4154</th>\n",
       "      <td>I</td>\n",
       "      <td>0.435</td>\n",
       "      <td>0.330</td>\n",
       "      <td>0.095</td>\n",
       "      <td>0.3930</td>\n",
       "      <td>0.2190</td>\n",
       "      <td>0.0750</td>\n",
       "      <td>0.0885</td>\n",
       "      <td>7.5</td>\n",
       "    </tr>\n",
       "    <tr>\n",
       "      <th>4155</th>\n",
       "      <td>I</td>\n",
       "      <td>0.440</td>\n",
       "      <td>0.350</td>\n",
       "      <td>0.110</td>\n",
       "      <td>0.3805</td>\n",
       "      <td>0.1575</td>\n",
       "      <td>0.0895</td>\n",
       "      <td>0.1150</td>\n",
       "      <td>7.5</td>\n",
       "    </tr>\n",
       "    <tr>\n",
       "      <th>4156</th>\n",
       "      <td>M</td>\n",
       "      <td>0.475</td>\n",
       "      <td>0.370</td>\n",
       "      <td>0.110</td>\n",
       "      <td>0.4895</td>\n",
       "      <td>0.2185</td>\n",
       "      <td>0.1070</td>\n",
       "      <td>0.1460</td>\n",
       "      <td>9.5</td>\n",
       "    </tr>\n",
       "    <tr>\n",
       "      <th>4157</th>\n",
       "      <td>M</td>\n",
       "      <td>0.475</td>\n",
       "      <td>0.360</td>\n",
       "      <td>0.140</td>\n",
       "      <td>0.5135</td>\n",
       "      <td>0.2410</td>\n",
       "      <td>0.1045</td>\n",
       "      <td>0.1550</td>\n",
       "      <td>9.5</td>\n",
       "    </tr>\n",
       "    <tr>\n",
       "      <th>4158</th>\n",
       "      <td>I</td>\n",
       "      <td>0.480</td>\n",
       "      <td>0.355</td>\n",
       "      <td>0.110</td>\n",
       "      <td>0.4495</td>\n",
       "      <td>0.2010</td>\n",
       "      <td>0.0890</td>\n",
       "      <td>0.1400</td>\n",
       "      <td>9.5</td>\n",
       "    </tr>\n",
       "    <tr>\n",
       "      <th>4159</th>\n",
       "      <td>F</td>\n",
       "      <td>0.560</td>\n",
       "      <td>0.440</td>\n",
       "      <td>0.135</td>\n",
       "      <td>0.8025</td>\n",
       "      <td>0.3500</td>\n",
       "      <td>0.1615</td>\n",
       "      <td>0.2590</td>\n",
       "      <td>10.5</td>\n",
       "    </tr>\n",
       "    <tr>\n",
       "      <th>4160</th>\n",
       "      <td>F</td>\n",
       "      <td>0.585</td>\n",
       "      <td>0.475</td>\n",
       "      <td>0.165</td>\n",
       "      <td>1.0530</td>\n",
       "      <td>0.4580</td>\n",
       "      <td>0.2170</td>\n",
       "      <td>0.3000</td>\n",
       "      <td>12.5</td>\n",
       "    </tr>\n",
       "    <tr>\n",
       "      <th>4161</th>\n",
       "      <td>F</td>\n",
       "      <td>0.585</td>\n",
       "      <td>0.455</td>\n",
       "      <td>0.170</td>\n",
       "      <td>0.9945</td>\n",
       "      <td>0.4255</td>\n",
       "      <td>0.2630</td>\n",
       "      <td>0.2845</td>\n",
       "      <td>12.5</td>\n",
       "    </tr>\n",
       "    <tr>\n",
       "      <th>4162</th>\n",
       "      <td>M</td>\n",
       "      <td>0.385</td>\n",
       "      <td>0.255</td>\n",
       "      <td>0.100</td>\n",
       "      <td>0.3175</td>\n",
       "      <td>0.1370</td>\n",
       "      <td>0.0680</td>\n",
       "      <td>0.0920</td>\n",
       "      <td>9.5</td>\n",
       "    </tr>\n",
       "    <tr>\n",
       "      <th>4163</th>\n",
       "      <td>I</td>\n",
       "      <td>0.390</td>\n",
       "      <td>0.310</td>\n",
       "      <td>0.085</td>\n",
       "      <td>0.3440</td>\n",
       "      <td>0.1810</td>\n",
       "      <td>0.0695</td>\n",
       "      <td>0.0790</td>\n",
       "      <td>8.5</td>\n",
       "    </tr>\n",
       "    <tr>\n",
       "      <th>4164</th>\n",
       "      <td>I</td>\n",
       "      <td>0.390</td>\n",
       "      <td>0.290</td>\n",
       "      <td>0.100</td>\n",
       "      <td>0.2845</td>\n",
       "      <td>0.1255</td>\n",
       "      <td>0.0635</td>\n",
       "      <td>0.0810</td>\n",
       "      <td>8.5</td>\n",
       "    </tr>\n",
       "    <tr>\n",
       "      <th>4165</th>\n",
       "      <td>I</td>\n",
       "      <td>0.405</td>\n",
       "      <td>0.300</td>\n",
       "      <td>0.085</td>\n",
       "      <td>0.3035</td>\n",
       "      <td>0.1500</td>\n",
       "      <td>0.0505</td>\n",
       "      <td>0.0880</td>\n",
       "      <td>8.5</td>\n",
       "    </tr>\n",
       "    <tr>\n",
       "      <th>4166</th>\n",
       "      <td>I</td>\n",
       "      <td>0.475</td>\n",
       "      <td>0.365</td>\n",
       "      <td>0.115</td>\n",
       "      <td>0.4990</td>\n",
       "      <td>0.2320</td>\n",
       "      <td>0.0885</td>\n",
       "      <td>0.1560</td>\n",
       "      <td>11.5</td>\n",
       "    </tr>\n",
       "    <tr>\n",
       "      <th>4167</th>\n",
       "      <td>M</td>\n",
       "      <td>0.500</td>\n",
       "      <td>0.380</td>\n",
       "      <td>0.125</td>\n",
       "      <td>0.5770</td>\n",
       "      <td>0.2690</td>\n",
       "      <td>0.1265</td>\n",
       "      <td>0.1535</td>\n",
       "      <td>10.5</td>\n",
       "    </tr>\n",
       "    <tr>\n",
       "      <th>4168</th>\n",
       "      <td>F</td>\n",
       "      <td>0.515</td>\n",
       "      <td>0.400</td>\n",
       "      <td>0.125</td>\n",
       "      <td>0.6150</td>\n",
       "      <td>0.2865</td>\n",
       "      <td>0.1230</td>\n",
       "      <td>0.1765</td>\n",
       "      <td>9.5</td>\n",
       "    </tr>\n",
       "    <tr>\n",
       "      <th>4169</th>\n",
       "      <td>M</td>\n",
       "      <td>0.520</td>\n",
       "      <td>0.385</td>\n",
       "      <td>0.165</td>\n",
       "      <td>0.7910</td>\n",
       "      <td>0.3750</td>\n",
       "      <td>0.1800</td>\n",
       "      <td>0.1815</td>\n",
       "      <td>11.5</td>\n",
       "    </tr>\n",
       "    <tr>\n",
       "      <th>4170</th>\n",
       "      <td>M</td>\n",
       "      <td>0.550</td>\n",
       "      <td>0.430</td>\n",
       "      <td>0.130</td>\n",
       "      <td>0.8395</td>\n",
       "      <td>0.3155</td>\n",
       "      <td>0.1955</td>\n",
       "      <td>0.2405</td>\n",
       "      <td>11.5</td>\n",
       "    </tr>\n",
       "    <tr>\n",
       "      <th>4171</th>\n",
       "      <td>M</td>\n",
       "      <td>0.560</td>\n",
       "      <td>0.430</td>\n",
       "      <td>0.155</td>\n",
       "      <td>0.8675</td>\n",
       "      <td>0.4000</td>\n",
       "      <td>0.1720</td>\n",
       "      <td>0.2290</td>\n",
       "      <td>9.5</td>\n",
       "    </tr>\n",
       "    <tr>\n",
       "      <th>4172</th>\n",
       "      <td>F</td>\n",
       "      <td>0.565</td>\n",
       "      <td>0.450</td>\n",
       "      <td>0.165</td>\n",
       "      <td>0.8870</td>\n",
       "      <td>0.3700</td>\n",
       "      <td>0.2390</td>\n",
       "      <td>0.2490</td>\n",
       "      <td>12.5</td>\n",
       "    </tr>\n",
       "    <tr>\n",
       "      <th>4173</th>\n",
       "      <td>M</td>\n",
       "      <td>0.590</td>\n",
       "      <td>0.440</td>\n",
       "      <td>0.135</td>\n",
       "      <td>0.9660</td>\n",
       "      <td>0.4390</td>\n",
       "      <td>0.2145</td>\n",
       "      <td>0.2605</td>\n",
       "      <td>11.5</td>\n",
       "    </tr>\n",
       "    <tr>\n",
       "      <th>4174</th>\n",
       "      <td>M</td>\n",
       "      <td>0.600</td>\n",
       "      <td>0.475</td>\n",
       "      <td>0.205</td>\n",
       "      <td>1.1760</td>\n",
       "      <td>0.5255</td>\n",
       "      <td>0.2875</td>\n",
       "      <td>0.3080</td>\n",
       "      <td>10.5</td>\n",
       "    </tr>\n",
       "    <tr>\n",
       "      <th>4175</th>\n",
       "      <td>F</td>\n",
       "      <td>0.625</td>\n",
       "      <td>0.485</td>\n",
       "      <td>0.150</td>\n",
       "      <td>1.0945</td>\n",
       "      <td>0.5310</td>\n",
       "      <td>0.2610</td>\n",
       "      <td>0.2960</td>\n",
       "      <td>11.5</td>\n",
       "    </tr>\n",
       "    <tr>\n",
       "      <th>4176</th>\n",
       "      <td>M</td>\n",
       "      <td>0.710</td>\n",
       "      <td>0.555</td>\n",
       "      <td>0.195</td>\n",
       "      <td>1.9485</td>\n",
       "      <td>0.9455</td>\n",
       "      <td>0.3765</td>\n",
       "      <td>0.4950</td>\n",
       "      <td>13.5</td>\n",
       "    </tr>\n",
       "  </tbody>\n",
       "</table>\n",
       "<p>4177 rows × 9 columns</p>\n",
       "</div>"
      ],
      "text/plain": [
       "     Sex  Length  Diameter  Height  Whole weight  Shucked weight  \\\n",
       "0      M   0.455     0.365   0.095        0.5140          0.2245   \n",
       "1      M   0.350     0.265   0.090        0.2255          0.0995   \n",
       "2      F   0.530     0.420   0.135        0.6770          0.2565   \n",
       "3      M   0.440     0.365   0.125        0.5160          0.2155   \n",
       "4      I   0.330     0.255   0.080        0.2050          0.0895   \n",
       "...   ..     ...       ...     ...           ...             ...   \n",
       "4172   F   0.565     0.450   0.165        0.8870          0.3700   \n",
       "4173   M   0.590     0.440   0.135        0.9660          0.4390   \n",
       "4174   M   0.600     0.475   0.205        1.1760          0.5255   \n",
       "4175   F   0.625     0.485   0.150        1.0945          0.5310   \n",
       "4176   M   0.710     0.555   0.195        1.9485          0.9455   \n",
       "\n",
       "      Viscera weight  Shell weight   age  \n",
       "0             0.1010        0.1500  16.5  \n",
       "1             0.0485        0.0700   8.5  \n",
       "2             0.1415        0.2100  10.5  \n",
       "3             0.1140        0.1550  11.5  \n",
       "4             0.0395        0.0550   8.5  \n",
       "...              ...           ...   ...  \n",
       "4172          0.2390        0.2490  12.5  \n",
       "4173          0.2145        0.2605  11.5  \n",
       "4174          0.2875        0.3080  10.5  \n",
       "4175          0.2610        0.2960  11.5  \n",
       "4176          0.3765        0.4950  13.5  \n",
       "\n",
       "[4177 rows x 9 columns]"
      ]
     },
     "execution_count": 5,
     "metadata": {},
     "output_type": "execute_result"
    }
   ],
   "source": [
    "data"
   ]
  },
  {
   "cell_type": "code",
   "execution_count": 6,
   "metadata": {
    "_uuid": "7abee39862538dbf9d20b0ee5d331a3fc9a7c3ac",
    "execution": {
     "iopub.execute_input": "2022-04-19T12:24:02.798320Z",
     "iopub.status.busy": "2022-04-19T12:24:02.797976Z",
     "iopub.status.idle": "2022-04-19T12:24:02.805244Z",
     "shell.execute_reply": "2022-04-19T12:24:02.804169Z",
     "shell.execute_reply.started": "2022-04-19T12:24:02.798257Z"
    }
   },
   "outputs": [
    {
     "data": {
      "text/plain": [
       "Index(['Sex', 'Length', 'Diameter', 'Height', 'Whole weight', 'Shucked weight',\n",
       "       'Viscera weight', 'Shell weight', 'age'],\n",
       "      dtype='object')"
      ]
     },
     "execution_count": 6,
     "metadata": {},
     "output_type": "execute_result"
    }
   ],
   "source": [
    "data.columns"
   ]
  },
  {
   "cell_type": "code",
   "execution_count": 7,
   "metadata": {
    "_uuid": "3af7c59489d337f024a2b5c065e71181b62548e0",
    "execution": {
     "iopub.execute_input": "2022-04-19T12:24:02.806820Z",
     "iopub.status.busy": "2022-04-19T12:24:02.806529Z",
     "iopub.status.idle": "2022-04-19T12:24:02.823132Z",
     "shell.execute_reply": "2022-04-19T12:24:02.820701Z",
     "shell.execute_reply.started": "2022-04-19T12:24:02.806780Z"
    }
   },
   "outputs": [
    {
     "name": "stdout",
     "output_type": "stream",
     "text": [
      "<class 'pandas.core.frame.DataFrame'>\n",
      "RangeIndex: 4177 entries, 0 to 4176\n",
      "Data columns (total 9 columns):\n",
      "Sex               4177 non-null object\n",
      "Length            4177 non-null float64\n",
      "Diameter          4177 non-null float64\n",
      "Height            4177 non-null float64\n",
      "Whole weight      4177 non-null float64\n",
      "Shucked weight    4177 non-null float64\n",
      "Viscera weight    4177 non-null float64\n",
      "Shell weight      4177 non-null float64\n",
      "age               4177 non-null float64\n",
      "dtypes: float64(8), object(1)\n",
      "memory usage: 293.8+ KB\n"
     ]
    }
   ],
   "source": [
    "data.info()"
   ]
  },
  {
   "cell_type": "code",
   "execution_count": 8,
   "metadata": {
    "_uuid": "93d42e2c87393a6db6b8fa18b1fc2f3b0967957a",
    "execution": {
     "iopub.execute_input": "2022-04-19T12:24:02.825753Z",
     "iopub.status.busy": "2022-04-19T12:24:02.824739Z",
     "iopub.status.idle": "2022-04-19T12:24:02.870987Z",
     "shell.execute_reply": "2022-04-19T12:24:02.869800Z",
     "shell.execute_reply.started": "2022-04-19T12:24:02.825269Z"
    }
   },
   "outputs": [
    {
     "data": {
      "text/html": [
       "<div>\n",
       "<style scoped>\n",
       "    .dataframe tbody tr th:only-of-type {\n",
       "        vertical-align: middle;\n",
       "    }\n",
       "\n",
       "    .dataframe tbody tr th {\n",
       "        vertical-align: top;\n",
       "    }\n",
       "\n",
       "    .dataframe thead th {\n",
       "        text-align: right;\n",
       "    }\n",
       "</style>\n",
       "<table border=\"1\" class=\"dataframe\">\n",
       "  <thead>\n",
       "    <tr style=\"text-align: right;\">\n",
       "      <th></th>\n",
       "      <th>Length</th>\n",
       "      <th>Diameter</th>\n",
       "      <th>Height</th>\n",
       "      <th>Whole weight</th>\n",
       "      <th>Shucked weight</th>\n",
       "      <th>Viscera weight</th>\n",
       "      <th>Shell weight</th>\n",
       "      <th>age</th>\n",
       "    </tr>\n",
       "  </thead>\n",
       "  <tbody>\n",
       "    <tr>\n",
       "      <th>count</th>\n",
       "      <td>4177.000000</td>\n",
       "      <td>4177.000000</td>\n",
       "      <td>4177.000000</td>\n",
       "      <td>4177.000000</td>\n",
       "      <td>4177.000000</td>\n",
       "      <td>4177.000000</td>\n",
       "      <td>4177.000000</td>\n",
       "      <td>4177.000000</td>\n",
       "    </tr>\n",
       "    <tr>\n",
       "      <th>mean</th>\n",
       "      <td>0.523992</td>\n",
       "      <td>0.407881</td>\n",
       "      <td>0.139516</td>\n",
       "      <td>0.828742</td>\n",
       "      <td>0.359367</td>\n",
       "      <td>0.180594</td>\n",
       "      <td>0.238831</td>\n",
       "      <td>11.433684</td>\n",
       "    </tr>\n",
       "    <tr>\n",
       "      <th>std</th>\n",
       "      <td>0.120093</td>\n",
       "      <td>0.099240</td>\n",
       "      <td>0.041827</td>\n",
       "      <td>0.490389</td>\n",
       "      <td>0.221963</td>\n",
       "      <td>0.109614</td>\n",
       "      <td>0.139203</td>\n",
       "      <td>3.224169</td>\n",
       "    </tr>\n",
       "    <tr>\n",
       "      <th>min</th>\n",
       "      <td>0.075000</td>\n",
       "      <td>0.055000</td>\n",
       "      <td>0.000000</td>\n",
       "      <td>0.002000</td>\n",
       "      <td>0.001000</td>\n",
       "      <td>0.000500</td>\n",
       "      <td>0.001500</td>\n",
       "      <td>2.500000</td>\n",
       "    </tr>\n",
       "    <tr>\n",
       "      <th>25%</th>\n",
       "      <td>0.450000</td>\n",
       "      <td>0.350000</td>\n",
       "      <td>0.115000</td>\n",
       "      <td>0.441500</td>\n",
       "      <td>0.186000</td>\n",
       "      <td>0.093500</td>\n",
       "      <td>0.130000</td>\n",
       "      <td>9.500000</td>\n",
       "    </tr>\n",
       "    <tr>\n",
       "      <th>50%</th>\n",
       "      <td>0.545000</td>\n",
       "      <td>0.425000</td>\n",
       "      <td>0.140000</td>\n",
       "      <td>0.799500</td>\n",
       "      <td>0.336000</td>\n",
       "      <td>0.171000</td>\n",
       "      <td>0.234000</td>\n",
       "      <td>10.500000</td>\n",
       "    </tr>\n",
       "    <tr>\n",
       "      <th>75%</th>\n",
       "      <td>0.615000</td>\n",
       "      <td>0.480000</td>\n",
       "      <td>0.165000</td>\n",
       "      <td>1.153000</td>\n",
       "      <td>0.502000</td>\n",
       "      <td>0.253000</td>\n",
       "      <td>0.329000</td>\n",
       "      <td>12.500000</td>\n",
       "    </tr>\n",
       "    <tr>\n",
       "      <th>max</th>\n",
       "      <td>0.815000</td>\n",
       "      <td>0.650000</td>\n",
       "      <td>1.130000</td>\n",
       "      <td>2.825500</td>\n",
       "      <td>1.488000</td>\n",
       "      <td>0.760000</td>\n",
       "      <td>1.005000</td>\n",
       "      <td>30.500000</td>\n",
       "    </tr>\n",
       "  </tbody>\n",
       "</table>\n",
       "</div>"
      ],
      "text/plain": [
       "            Length     Diameter       Height  Whole weight  Shucked weight  \\\n",
       "count  4177.000000  4177.000000  4177.000000   4177.000000     4177.000000   \n",
       "mean      0.523992     0.407881     0.139516      0.828742        0.359367   \n",
       "std       0.120093     0.099240     0.041827      0.490389        0.221963   \n",
       "min       0.075000     0.055000     0.000000      0.002000        0.001000   \n",
       "25%       0.450000     0.350000     0.115000      0.441500        0.186000   \n",
       "50%       0.545000     0.425000     0.140000      0.799500        0.336000   \n",
       "75%       0.615000     0.480000     0.165000      1.153000        0.502000   \n",
       "max       0.815000     0.650000     1.130000      2.825500        1.488000   \n",
       "\n",
       "       Viscera weight  Shell weight          age  \n",
       "count     4177.000000   4177.000000  4177.000000  \n",
       "mean         0.180594      0.238831    11.433684  \n",
       "std          0.109614      0.139203     3.224169  \n",
       "min          0.000500      0.001500     2.500000  \n",
       "25%          0.093500      0.130000     9.500000  \n",
       "50%          0.171000      0.234000    10.500000  \n",
       "75%          0.253000      0.329000    12.500000  \n",
       "max          0.760000      1.005000    30.500000  "
      ]
     },
     "execution_count": 8,
     "metadata": {},
     "output_type": "execute_result"
    }
   ],
   "source": [
    "data.describe()"
   ]
  },
  {
   "cell_type": "code",
   "execution_count": 9,
   "metadata": {
    "_uuid": "a6abec3784ae308f4a6389f10a2e3ee012182cf3",
    "execution": {
     "iopub.execute_input": "2022-04-19T12:24:02.873730Z",
     "iopub.status.busy": "2022-04-19T12:24:02.872718Z",
     "iopub.status.idle": "2022-04-19T12:24:02.889451Z",
     "shell.execute_reply": "2022-04-19T12:24:02.888368Z",
     "shell.execute_reply.started": "2022-04-19T12:24:02.873057Z"
    }
   },
   "outputs": [],
   "source": [
    "numerical_features = data.select_dtypes(include=[np.number]).columns\n",
    "categorical_features = data.select_dtypes(include=[np.object]).columns"
   ]
  },
  {
   "cell_type": "code",
   "execution_count": 10,
   "metadata": {
    "_uuid": "c3b436f508202f02fe0005ac8f858da5a769c15c",
    "execution": {
     "iopub.execute_input": "2022-04-19T12:24:02.891071Z",
     "iopub.status.busy": "2022-04-19T12:24:02.890765Z",
     "iopub.status.idle": "2022-04-19T12:24:02.899193Z",
     "shell.execute_reply": "2022-04-19T12:24:02.898222Z",
     "shell.execute_reply.started": "2022-04-19T12:24:02.891019Z"
    }
   },
   "outputs": [
    {
     "data": {
      "text/plain": [
       "Index(['Length', 'Diameter', 'Height', 'Whole weight', 'Shucked weight',\n",
       "       'Viscera weight', 'Shell weight', 'age'],\n",
       "      dtype='object')"
      ]
     },
     "execution_count": 10,
     "metadata": {},
     "output_type": "execute_result"
    }
   ],
   "source": [
    "numerical_features"
   ]
  },
  {
   "cell_type": "code",
   "execution_count": 11,
   "metadata": {
    "_uuid": "cb034d4b75c8d8e023f8bee544422f3b5e03246d",
    "execution": {
     "iopub.execute_input": "2022-04-19T12:24:02.901011Z",
     "iopub.status.busy": "2022-04-19T12:24:02.900486Z",
     "iopub.status.idle": "2022-04-19T12:24:02.913758Z",
     "shell.execute_reply": "2022-04-19T12:24:02.912809Z",
     "shell.execute_reply.started": "2022-04-19T12:24:02.900809Z"
    }
   },
   "outputs": [
    {
     "data": {
      "text/plain": [
       "Index(['Sex'], dtype='object')"
      ]
     },
     "execution_count": 11,
     "metadata": {},
     "output_type": "execute_result"
    }
   ],
   "source": [
    "categorical_features"
   ]
  },
  {
   "cell_type": "code",
   "execution_count": 12,
   "metadata": {
    "_uuid": "dae3a06f78828b6742289219e8152e8d8072dad4",
    "execution": {
     "iopub.execute_input": "2022-04-19T12:24:02.918416Z",
     "iopub.status.busy": "2022-04-19T12:24:02.917802Z",
     "iopub.status.idle": "2022-04-19T12:24:02.942009Z",
     "shell.execute_reply": "2022-04-19T12:24:02.940777Z",
     "shell.execute_reply.started": "2022-04-19T12:24:02.918366Z"
    }
   },
   "outputs": [
    {
     "data": {
      "text/html": [
       "<div>\n",
       "<style scoped>\n",
       "    .dataframe tbody tr th:only-of-type {\n",
       "        vertical-align: middle;\n",
       "    }\n",
       "\n",
       "    .dataframe tbody tr th {\n",
       "        vertical-align: top;\n",
       "    }\n",
       "\n",
       "    .dataframe thead th {\n",
       "        text-align: right;\n",
       "    }\n",
       "</style>\n",
       "<table border=\"1\" class=\"dataframe\">\n",
       "  <thead>\n",
       "    <tr style=\"text-align: right;\">\n",
       "      <th></th>\n",
       "      <th>Features</th>\n",
       "      <th>Skewness degree</th>\n",
       "    </tr>\n",
       "  </thead>\n",
       "  <tbody>\n",
       "    <tr>\n",
       "      <th>2</th>\n",
       "      <td>Height</td>\n",
       "      <td>3.127694</td>\n",
       "    </tr>\n",
       "    <tr>\n",
       "      <th>7</th>\n",
       "      <td>age</td>\n",
       "      <td>1.113702</td>\n",
       "    </tr>\n",
       "    <tr>\n",
       "      <th>4</th>\n",
       "      <td>Shucked weight</td>\n",
       "      <td>0.718840</td>\n",
       "    </tr>\n",
       "    <tr>\n",
       "      <th>6</th>\n",
       "      <td>Shell weight</td>\n",
       "      <td>0.620704</td>\n",
       "    </tr>\n",
       "    <tr>\n",
       "      <th>5</th>\n",
       "      <td>Viscera weight</td>\n",
       "      <td>0.591640</td>\n",
       "    </tr>\n",
       "    <tr>\n",
       "      <th>3</th>\n",
       "      <td>Whole weight</td>\n",
       "      <td>0.530768</td>\n",
       "    </tr>\n",
       "    <tr>\n",
       "      <th>1</th>\n",
       "      <td>Diameter</td>\n",
       "      <td>-0.608979</td>\n",
       "    </tr>\n",
       "    <tr>\n",
       "      <th>0</th>\n",
       "      <td>Length</td>\n",
       "      <td>-0.639643</td>\n",
       "    </tr>\n",
       "  </tbody>\n",
       "</table>\n",
       "</div>"
      ],
      "text/plain": [
       "         Features  Skewness degree\n",
       "2          Height         3.127694\n",
       "7             age         1.113702\n",
       "4  Shucked weight         0.718840\n",
       "6    Shell weight         0.620704\n",
       "5  Viscera weight         0.591640\n",
       "3    Whole weight         0.530768\n",
       "1        Diameter        -0.608979\n",
       "0          Length        -0.639643"
      ]
     },
     "execution_count": 12,
     "metadata": {},
     "output_type": "execute_result"
    }
   ],
   "source": [
    "skew_values = skew(data[numerical_features], nan_policy = 'omit')\n",
    "dummy = pd.concat([pd.DataFrame(list(numerical_features), columns=['Features']), \n",
    "           pd.DataFrame(list(skew_values), columns=['Skewness degree'])], axis = 1)\n",
    "dummy.sort_values(by = 'Skewness degree' , ascending = False)"
   ]
  },
  {
   "cell_type": "code",
   "execution_count": 13,
   "metadata": {
    "_uuid": "01c3f04cba9ee61dced6bce0fc56a8b5c729bd83",
    "execution": {
     "iopub.execute_input": "2022-04-19T12:24:02.944490Z",
     "iopub.status.busy": "2022-04-19T12:24:02.943802Z",
     "iopub.status.idle": "2022-04-19T12:24:02.964479Z",
     "shell.execute_reply": "2022-04-19T12:24:02.963223Z",
     "shell.execute_reply.started": "2022-04-19T12:24:02.944424Z"
    }
   },
   "outputs": [
    {
     "data": {
      "text/html": [
       "<div>\n",
       "<style scoped>\n",
       "    .dataframe tbody tr th:only-of-type {\n",
       "        vertical-align: middle;\n",
       "    }\n",
       "\n",
       "    .dataframe tbody tr th {\n",
       "        vertical-align: top;\n",
       "    }\n",
       "\n",
       "    .dataframe thead th {\n",
       "        text-align: right;\n",
       "    }\n",
       "</style>\n",
       "<table border=\"1\" class=\"dataframe\">\n",
       "  <thead>\n",
       "    <tr style=\"text-align: right;\">\n",
       "      <th></th>\n",
       "      <th>Missing values</th>\n",
       "      <th>% Missing</th>\n",
       "    </tr>\n",
       "  </thead>\n",
       "  <tbody>\n",
       "    <tr>\n",
       "      <th>age</th>\n",
       "      <td>0</td>\n",
       "      <td>0.0</td>\n",
       "    </tr>\n",
       "    <tr>\n",
       "      <th>Shell weight</th>\n",
       "      <td>0</td>\n",
       "      <td>0.0</td>\n",
       "    </tr>\n",
       "    <tr>\n",
       "      <th>Viscera weight</th>\n",
       "      <td>0</td>\n",
       "      <td>0.0</td>\n",
       "    </tr>\n",
       "    <tr>\n",
       "      <th>Shucked weight</th>\n",
       "      <td>0</td>\n",
       "      <td>0.0</td>\n",
       "    </tr>\n",
       "    <tr>\n",
       "      <th>Whole weight</th>\n",
       "      <td>0</td>\n",
       "      <td>0.0</td>\n",
       "    </tr>\n",
       "    <tr>\n",
       "      <th>Height</th>\n",
       "      <td>0</td>\n",
       "      <td>0.0</td>\n",
       "    </tr>\n",
       "    <tr>\n",
       "      <th>Diameter</th>\n",
       "      <td>0</td>\n",
       "      <td>0.0</td>\n",
       "    </tr>\n",
       "    <tr>\n",
       "      <th>Length</th>\n",
       "      <td>0</td>\n",
       "      <td>0.0</td>\n",
       "    </tr>\n",
       "    <tr>\n",
       "      <th>Sex</th>\n",
       "      <td>0</td>\n",
       "      <td>0.0</td>\n",
       "    </tr>\n",
       "  </tbody>\n",
       "</table>\n",
       "</div>"
      ],
      "text/plain": [
       "                Missing values  % Missing\n",
       "age                          0        0.0\n",
       "Shell weight                 0        0.0\n",
       "Viscera weight               0        0.0\n",
       "Shucked weight               0        0.0\n",
       "Whole weight                 0        0.0\n",
       "Height                       0        0.0\n",
       "Diameter                     0        0.0\n",
       "Length                       0        0.0\n",
       "Sex                          0        0.0"
      ]
     },
     "execution_count": 13,
     "metadata": {},
     "output_type": "execute_result"
    }
   ],
   "source": [
    "# Missing values\n",
    "missing_values = data.isnull().sum().sort_values(ascending = False)\n",
    "percentage_missing_values = (missing_values/len(data))*100\n",
    "pd.concat([missing_values, percentage_missing_values], axis = 1, keys= ['Missing values', '% Missing'])"
   ]
  },
  {
   "cell_type": "code",
   "execution_count": 14,
   "metadata": {
    "_uuid": "d7c28a8e7ed7e00c64200e5b02ad963a601b3c42",
    "execution": {
     "iopub.execute_input": "2022-04-19T12:24:02.967316Z",
     "iopub.status.busy": "2022-04-19T12:24:02.966793Z",
     "iopub.status.idle": "2022-04-19T12:24:03.265150Z",
     "shell.execute_reply": "2022-04-19T12:24:03.263870Z",
     "shell.execute_reply.started": "2022-04-19T12:24:02.967057Z"
    }
   },
   "outputs": [
    {
     "data": {
      "text/plain": [
       "<matplotlib.axes._subplots.AxesSubplot at 0x7faa76ab21d0>"
      ]
     },
     "execution_count": 14,
     "metadata": {},
     "output_type": "execute_result"
    },
    {
     "data": {
      "image/png": "[encoded data removed]",
      "text/plain": [
       "<Figure size 432x288 with 1 Axes>"
      ]
     },
     "metadata": {
      "needs_background": "light"
     },
     "output_type": "display_data"
    }
   ],
   "source": [
    "sns.countplot(x = 'Sex', data = data, palette=\"Set1\")"
   ]
  },
  {
   "cell_type": "code",
   "execution_count": 15,
   "metadata": {
    "_uuid": "3277f487c80090a513785ea9f1f8471add392006",
    "execution": {
     "iopub.execute_input": "2022-04-19T12:24:03.267459Z",
     "iopub.status.busy": "2022-04-19T12:24:03.267058Z",
     "iopub.status.idle": "2022-04-19T12:24:27.632016Z",
     "shell.execute_reply": "2022-04-19T12:24:27.630824Z",
     "shell.execute_reply.started": "2022-04-19T12:24:03.267391Z"
    }
   },
   "outputs": [
    {
     "data": {
      "text/plain": [
       "<matplotlib.axes._subplots.AxesSubplot at 0x7faa76a6ac18>"
      ]
     },
     "execution_count": 15,
     "metadata": {},
     "output_type": "execute_result"
    },
    {
     "data": {
      "image/png": "[encoded data removed]",
      "text/plain": [
       "<Figure size 1440x504 with 1 Axes>"
      ]
     },
     "metadata": {
      "needs_background": "light"
     },
     "output_type": "display_data"
    }
   ],
   "source": [
    "plt.figure(figsize = (20,7))\n",
    "sns.swarmplot(x = 'Sex', y = 'age', data = data, hue = 'Sex')\n",
    "sns.violinplot(x = 'Sex', y = 'age', data = data)"
   ]
  },
  {
   "cell_type": "code",
   "execution_count": 16,
   "metadata": {
    "_uuid": "7e70607040f0bd467b19d4cf7f385af94f2f2279",
    "execution": {
     "iopub.execute_input": "2022-04-19T12:24:27.633753Z",
     "iopub.status.busy": "2022-04-19T12:24:27.633444Z",
     "iopub.status.idle": "2022-04-19T12:24:27.657590Z",
     "shell.execute_reply": "2022-04-19T12:24:27.656827Z",
     "shell.execute_reply.started": "2022-04-19T12:24:27.633699Z"
    }
   },
   "outputs": [
    {
     "data": {
      "text/html": [
       "<div>\n",
       "<style scoped>\n",
       "    .dataframe tbody tr th:only-of-type {\n",
       "        vertical-align: middle;\n",
       "    }\n",
       "\n",
       "    .dataframe tbody tr th {\n",
       "        vertical-align: top;\n",
       "    }\n",
       "\n",
       "    .dataframe thead th {\n",
       "        text-align: right;\n",
       "    }\n",
       "</style>\n",
       "<table border=\"1\" class=\"dataframe\">\n",
       "  <thead>\n",
       "    <tr style=\"text-align: right;\">\n",
       "      <th></th>\n",
       "      <th>Length</th>\n",
       "      <th>Diameter</th>\n",
       "      <th>Height</th>\n",
       "      <th>Whole weight</th>\n",
       "      <th>Shucked weight</th>\n",
       "      <th>Viscera weight</th>\n",
       "      <th>Shell weight</th>\n",
       "      <th>age</th>\n",
       "    </tr>\n",
       "    <tr>\n",
       "      <th>Sex</th>\n",
       "      <th></th>\n",
       "      <th></th>\n",
       "      <th></th>\n",
       "      <th></th>\n",
       "      <th></th>\n",
       "      <th></th>\n",
       "      <th></th>\n",
       "      <th></th>\n",
       "    </tr>\n",
       "  </thead>\n",
       "  <tbody>\n",
       "    <tr>\n",
       "      <th>I</th>\n",
       "      <td>0.427746</td>\n",
       "      <td>0.326494</td>\n",
       "      <td>0.107996</td>\n",
       "      <td>0.431363</td>\n",
       "      <td>0.191035</td>\n",
       "      <td>0.092010</td>\n",
       "      <td>0.128182</td>\n",
       "      <td>9.390462</td>\n",
       "    </tr>\n",
       "    <tr>\n",
       "      <th>M</th>\n",
       "      <td>0.561391</td>\n",
       "      <td>0.439287</td>\n",
       "      <td>0.151381</td>\n",
       "      <td>0.991459</td>\n",
       "      <td>0.432946</td>\n",
       "      <td>0.215545</td>\n",
       "      <td>0.281969</td>\n",
       "      <td>12.205497</td>\n",
       "    </tr>\n",
       "    <tr>\n",
       "      <th>F</th>\n",
       "      <td>0.579093</td>\n",
       "      <td>0.454732</td>\n",
       "      <td>0.158011</td>\n",
       "      <td>1.046532</td>\n",
       "      <td>0.446188</td>\n",
       "      <td>0.230689</td>\n",
       "      <td>0.302010</td>\n",
       "      <td>12.629304</td>\n",
       "    </tr>\n",
       "  </tbody>\n",
       "</table>\n",
       "</div>"
      ],
      "text/plain": [
       "       Length  Diameter    Height  Whole weight  Shucked weight  \\\n",
       "Sex                                                               \n",
       "I    0.427746  0.326494  0.107996      0.431363        0.191035   \n",
       "M    0.561391  0.439287  0.151381      0.991459        0.432946   \n",
       "F    0.579093  0.454732  0.158011      1.046532        0.446188   \n",
       "\n",
       "     Viscera weight  Shell weight        age  \n",
       "Sex                                           \n",
       "I          0.092010      0.128182   9.390462  \n",
       "M          0.215545      0.281969  12.205497  \n",
       "F          0.230689      0.302010  12.629304  "
      ]
     },
     "execution_count": 16,
     "metadata": {},
     "output_type": "execute_result"
    }
   ],
   "source": [
    "data.groupby('Sex')[['Length', 'Diameter', 'Height', 'Whole weight', 'Shucked weight',\n",
    "       'Viscera weight', 'Shell weight', 'age']].mean().sort_values('age')"
   ]
  },
  {
   "cell_type": "code",
   "execution_count": 17,
   "metadata": {
    "_uuid": "8cf41a980fb08dfe6f15e07f1bab5b73a35ac3e3",
    "execution": {
     "iopub.execute_input": "2022-04-19T12:24:27.659047Z",
     "iopub.status.busy": "2022-04-19T12:24:27.658641Z",
     "iopub.status.idle": "2022-04-19T12:24:27.677180Z",
     "shell.execute_reply": "2022-04-19T12:24:27.676391Z",
     "shell.execute_reply.started": "2022-04-19T12:24:27.659006Z"
    }
   },
   "outputs": [],
   "source": [
    "data = pd.get_dummies(data)\n",
    "dummy_data = data.copy()"
   ]
  },
  {
   "cell_type": "code",
   "execution_count": 18,
   "metadata": {
    "_uuid": "e966754fdf26e2c168c6a0d3d4809bb923ef3302",
    "execution": {
     "iopub.execute_input": "2022-04-19T12:24:27.679718Z",
     "iopub.status.busy": "2022-04-19T12:24:27.678930Z",
     "iopub.status.idle": "2022-04-19T12:24:28.071802Z",
     "shell.execute_reply": "2022-04-19T12:24:28.070850Z",
     "shell.execute_reply.started": "2022-04-19T12:24:27.679606Z"
    }
   },
   "outputs": [
    {
     "data": {
      "image/png": "[encoded data removed]",
      "text/plain": [
       "<Figure size 432x288 with 1 Axes>"
      ]
     },
     "metadata": {
      "needs_background": "light"
     },
     "output_type": "display_data"
    }
   ],
   "source": [
    "var = 'Viscera weight'\n",
    "plt.scatter(x = data[var], y = data['age'],)\n",
    "plt.grid(True)"
   ]
  },
  {
   "cell_type": "code",
   "execution_count": 19,
   "metadata": {
    "_uuid": "d202787ddba0ea04703b32cfb3c11d0b8fb125cb",
    "execution": {
     "iopub.execute_input": "2022-04-19T12:24:28.074294Z",
     "iopub.status.busy": "2022-04-19T12:24:28.073599Z",
     "iopub.status.idle": "2022-04-19T12:24:28.326233Z",
     "shell.execute_reply": "2022-04-19T12:24:28.325034Z",
     "shell.execute_reply.started": "2022-04-19T12:24:28.074233Z"
    }
   },
   "outputs": [
    {
     "data": {
      "image/png": "[encoded data removed]",
      "text/plain": [
       "<Figure size 432x288 with 1 Axes>"
      ]
     },
     "metadata": {
      "needs_background": "light"
     },
     "output_type": "display_data"
    }
   ],
   "source": [
    "var = 'Shell weight'\n",
    "plt.scatter(x = data[var], y = data['age'],)\n",
    "plt.grid(True)"
   ]
  },
  {
   "cell_type": "code",
   "execution_count": 20,
   "metadata": {
    "_uuid": "9e163356124f8899d23a6095311b062b51994f73",
    "execution": {
     "iopub.execute_input": "2022-04-19T12:24:28.329075Z",
     "iopub.status.busy": "2022-04-19T12:24:28.328525Z",
     "iopub.status.idle": "2022-04-19T12:24:28.596931Z",
     "shell.execute_reply": "2022-04-19T12:24:28.595948Z",
     "shell.execute_reply.started": "2022-04-19T12:24:28.328886Z"
    }
   },
   "outputs": [
    {
     "data": {
      "image/png": "[encoded data removed]",
      "text/plain": [
       "<Figure size 432x288 with 1 Axes>"
      ]
     },
     "metadata": {
      "needs_background": "light"
     },
     "output_type": "display_data"
    }
   ],
   "source": [
    "var = 'Shucked weight'\n",
    "plt.scatter(x = data[var], y = data['age'],)\n",
    "plt.grid(True)"
   ]
  },
  {
   "cell_type": "code",
   "execution_count": 21,
   "metadata": {
    "_uuid": "2d8037f5406af07090b148d6de0507d393d6995b",
    "execution": {
     "iopub.execute_input": "2022-04-19T12:24:28.598924Z",
     "iopub.status.busy": "2022-04-19T12:24:28.598408Z",
     "iopub.status.idle": "2022-04-19T12:24:28.852389Z",
     "shell.execute_reply": "2022-04-19T12:24:28.851366Z",
     "shell.execute_reply.started": "2022-04-19T12:24:28.598866Z"
    }
   },
   "outputs": [
    {
     "data": {
      "image/png": "[encoded data removed]",
      "text/plain": [
       "<Figure size 432x288 with 1 Axes>"
      ]
     },
     "metadata": {
      "needs_background": "light"
     },
     "output_type": "display_data"
    }
   ],
   "source": [
    "var = 'Whole weight'\n",
    "plt.scatter(x = data[var], y = data['age'],)\n",
    "plt.grid(True)"
   ]
  },
  {
   "cell_type": "code",
   "execution_count": 22,
   "metadata": {
    "_uuid": "2c9571d7bf19a43b87953a682e072142a20af62e",
    "execution": {
     "iopub.execute_input": "2022-04-19T12:24:28.854478Z",
     "iopub.status.busy": "2022-04-19T12:24:28.853951Z",
     "iopub.status.idle": "2022-04-19T12:24:29.112510Z",
     "shell.execute_reply": "2022-04-19T12:24:29.111492Z",
     "shell.execute_reply.started": "2022-04-19T12:24:28.854402Z"
    }
   },
   "outputs": [
    {
     "data": {
      "image/png": "[encoded data removed]",
      "text/plain": [
       "<Figure size 432x288 with 1 Axes>"
      ]
     },
     "metadata": {
      "needs_background": "light"
     },
     "output_type": "display_data"
    }
   ],
   "source": [
    "var = 'Diameter'\n",
    "plt.scatter(x = data[var], y = data['age'],)\n",
    "plt.grid(True)"
   ]
  },
  {
   "cell_type": "code",
   "execution_count": 23,
   "metadata": {
    "_uuid": "f7ff8412dc3d2be1228e214800e7eb6df50823e7",
    "execution": {
     "iopub.execute_input": "2022-04-19T12:24:29.115031Z",
     "iopub.status.busy": "2022-04-19T12:24:29.114314Z",
     "iopub.status.idle": "2022-04-19T12:24:29.367895Z",
     "shell.execute_reply": "2022-04-19T12:24:29.366903Z",
     "shell.execute_reply.started": "2022-04-19T12:24:29.114967Z"
    }
   },
   "outputs": [
    {
     "data": {
      "image/png": "[encoded data removed]",
      "text/plain": [
       "<Figure size 432x288 with 1 Axes>"
      ]
     },
     "metadata": {
      "needs_background": "light"
     },
     "output_type": "display_data"
    }
   ],
   "source": [
    "var = 'Height'\n",
    "plt.scatter(x = data[var], y = data['age'],)\n",
    "plt.grid(True)"
   ]
  },
  {
   "cell_type": "code",
   "execution_count": 24,
   "metadata": {
    "_uuid": "52172558fbcc8dc1947823a4519b5394272d65e2",
    "execution": {
     "iopub.execute_input": "2022-04-19T12:24:29.370378Z",
     "iopub.status.busy": "2022-04-19T12:24:29.369703Z",
     "iopub.status.idle": "2022-04-19T12:24:29.638753Z",
     "shell.execute_reply": "2022-04-19T12:24:29.637795Z",
     "shell.execute_reply.started": "2022-04-19T12:24:29.370315Z"
    }
   },
   "outputs": [
    {
     "data": {
      "image/png": "[encoded data removed]",
      "text/plain": [
       "<Figure size 432x288 with 1 Axes>"
      ]
     },
     "metadata": {
      "needs_background": "light"
     },
     "output_type": "display_data"
    }
   ],
   "source": [
    "var = 'Length'\n",
    "plt.scatter(x = data[var], y = data['age'],)\n",
    "plt.grid(True)"
   ]
  }
 ],
 "metadata": {
  "kernelspec": {
   "display_name": "Python 3",
   "language": "python",
   "name": "python3"
  },
  "language_info": {
   "codemirror_mode": {
    "name": "ipython",
    "version": 3
   },
   "file_extension": ".py",
   "mimetype": "text/x-python",
   "name": "python",
   "nbconvert_exporter": "python",
   "pygments_lexer": "ipython3",
   "version": "3.6.6"
  }
 },
 "nbformat": 4,
 "nbformat_minor": 4
}
